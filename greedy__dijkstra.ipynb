{
 "cells": [
  {
   "cell_type": "code",
   "execution_count": 11,
   "id": "3b9e3a20",
   "metadata": {},
   "outputs": [
    {
     "name": "stdout",
     "output_type": "stream",
     "text": [
      "Dist from A to A : 0\n",
      "Dist from A to B : 2\n",
      "Dist from A to C : 3\n",
      "Dist from A to D : 6\n",
      "Dist from A to E : 8\n"
     ]
    }
   ],
   "source": [
    "import heapq\n",
    "INF= 9999999\n",
    "\n",
    "\n",
    "def dijkstra(graph,source):\n",
    "    Q=set()\n",
    "    dist={}\n",
    "    \n",
    "    for vertex in graph:\n",
    "        dist[vertex]=INF\n",
    "        Q.add(vertex)\n",
    "    dist[source]=0\n",
    "    \n",
    "    while Q:\n",
    "        u = min(Q,key=lambda v:dist[v])\n",
    "        Q.remove(u)\n",
    "        \n",
    "        for v in graph[u]:\n",
    "            cost_uv=graph[u][v]\n",
    "            if dist[u] + cost_uv <dist[v]:\n",
    "                dist[v]=dist[u] + cost_uv\n",
    "                \n",
    "    return dist\n",
    "    \n",
    "    \n",
    "graph={\n",
    "        'A' : {'B':2,'C':4},\n",
    "        'B' : {'A':2,'C':1,'D':5,'E':10},\n",
    "        'C' : {'A':4,'B':1,'D':3,'E':5},\n",
    "        'D' : {'B':5,'C':3,'E':3},\n",
    "        'E' : {'B':10,'C':5,'D':3}\n",
    "    }\n",
    "    \n",
    "source='A'\n",
    "    \n",
    "shortest_dist = dijkstra(graph,source)\n",
    "    \n",
    "for node,distance in shortest_dist.items():\n",
    "    \n",
    "    print(\"Dist from \" + source + \" to \" + node + \" : \" + str(distance))\n",
    "        \n",
    "    \n",
    "   \n",
    "  \n",
    "            "
   ]
  },
  {
   "cell_type": "code",
   "execution_count": null,
   "id": "cc3d401d",
   "metadata": {},
   "outputs": [],
   "source": []
  }
 ],
 "metadata": {
  "kernelspec": {
   "display_name": "Python 3 (ipykernel)",
   "language": "python",
   "name": "python3"
  },
  "language_info": {
   "codemirror_mode": {
    "name": "ipython",
    "version": 3
   },
   "file_extension": ".py",
   "mimetype": "text/x-python",
   "name": "python",
   "nbconvert_exporter": "python",
   "pygments_lexer": "ipython3",
   "version": "3.10.9"
  }
 },
 "nbformat": 4,
 "nbformat_minor": 5
}
